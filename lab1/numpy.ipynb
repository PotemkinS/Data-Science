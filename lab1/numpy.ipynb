{
  "cells": [
    {
      "cell_type": "markdown",
      "metadata": {
        "id": "vC84e9kzyxPy"
      },
      "source": [
        "<h1>Импорт библиотек"
      ]
    },
    {
      "cell_type": "code",
      "execution_count": 10,
      "metadata": {
        "id": "cgKeNegmQG5S"
      },
      "outputs": [],
      "source": [
        "import numpy as np\n",
        "import matplotlib.pyplot as plt"
      ]
    },
    {
      "cell_type": "markdown",
      "metadata": {
        "id": "qFM9uVU2x4Ls"
      },
      "source": [
        "<h1>Задача 1. Дан набор из $p$ матриц размерностью $(n, n)$ и $p$ векторов размерностью $(n, 1)$, найти сумму произведений матриц на векторы. Написать тесты для кода"
      ]
    },
    {
      "cell_type": "code",
      "execution_count": 12,
      "metadata": {
        "id": "IAbUvEiYyWFF"
      },
      "outputs": [
        {
          "name": "stdout",
          "output_type": "stream",
          "text": [
            "Все тесты пройдены.\n"
          ]
        }
      ],
      "source": [
        "def sum_prod(X, V):\n",
        "    '''\n",
        "    X - матрицы (n, n)\n",
        "    V - векторы (n, 1)\n",
        "    Гарантируется, что len(X) == len(V)\n",
        "    '''\n",
        "    a = np.array(X)\n",
        "    b = np.array(V)\n",
        "    return sum(a.dot(b))\n",
        "\n",
        "def test():\n",
        "    assert sum_prod([[1,2],[3,4]], [5,6]) == 56\n",
        "    assert sum_prod([[1,0,2],[3,4,1],[0,5,6]], [7,8,9]) == 181\n",
        "    assert sum_prod([[1,0,2],[3,4,1],[0,5,6]], [7,8,8]) != 181\n",
        "    \n",
        "    print(\"Все тесты пройдены.\")\n",
        "\n",
        "\n",
        "test()"
      ]
    },
    {
      "cell_type": "markdown",
      "metadata": {
        "id": "TKwPG4fIy2w4"
      },
      "source": [
        "<h1>Задача 2. Дана матрица M, напишите функцию, которая бинаризует матрицу по некоторому threshold (то есть, все значения большие threshold становятся равными 1, иначе 0). Напишите тесты для кода"
      ]
    },
    {
      "cell_type": "code",
      "execution_count": 16,
      "metadata": {
        "id": "KQDNMgsjRNH7"
      },
      "outputs": [
        {
          "name": "stdout",
          "output_type": "stream",
          "text": [
            "Все тесты пройдены.\n"
          ]
        }
      ],
      "source": [
        "def binarize(M, threshold=0.5):\n",
        "    result = M.copy()\n",
        "    for i in range(len(M)):\n",
        "        for j in range(len(M[i])):\n",
        "            if M[i][j] >= threshold:\n",
        "                result[i][j] = 1\n",
        "            else:\n",
        "                result[i][j] = 0\n",
        "    return result\n",
        "\n",
        "def test():\n",
        "    assert binarize([[0,2,3],[-1,0.5,22],[-0.2,1.0,2.0]], 1) == [[0,1,1],[0,0,1],[0,1,1]]\n",
        "    assert binarize([[0,2,3],[-1,0.5,22],[-0.2,1.0,2.0]], 3) == [[0,0,1],[0,0,1],[0,0,0]]\n",
        "    \n",
        "    print(\"Все тесты пройдены.\")\n",
        "\n",
        "\n",
        "test()"
      ]
    },
    {
      "cell_type": "markdown",
      "metadata": {
        "id": "IY5L-h-7zWhN"
      },
      "source": [
        "<h1>Задача 3. Напишите функцию, которая возвращает уникальные элементы из каждой строки матрицы. Напишите такую же функцию, но для столбцов. Напишите тесты для кода"
      ]
    },
    {
      "cell_type": "code",
      "execution_count": 18,
      "metadata": {
        "id": "-8dEZhR0SBC-"
      },
      "outputs": [
        {
          "name": "stdout",
          "output_type": "stream",
          "text": [
            "Все тесты пройдены.\n"
          ]
        }
      ],
      "source": [
        "def unique_rows(mat):\n",
        "    result = []\n",
        "    for i in range(len(mat)):\n",
        "        result.append([])\n",
        "    for i in range(len(mat)):\n",
        "        for j in range(len(mat[i])):\n",
        "            if mat[i].count(mat[i][j]) == 1:\n",
        "                result[i].append(mat[i][j])\n",
        "    return result\n",
        "\n",
        "\n",
        "def unique_columns(mat):\n",
        "    npMat = np.transpose(np.array(mat)).tolist()\n",
        "    result = []\n",
        "    for i in range(len(mat[0])):\n",
        "        result.append([])\n",
        "    for i in range(len(npMat)):\n",
        "        for j in range(len(npMat[i])):\n",
        "            if npMat[i].count(npMat[i][j]) == 1:\n",
        "                result[i].append(npMat[i][j])\n",
        "    return result\n",
        "\n",
        "def test():\n",
        "    matrix = [\n",
        "        [1, 2, 2, 4],\n",
        "        [5, 5, 6, 6],\n",
        "        [7, 8, 8, 7]\n",
        "    ]\n",
        "    expected_rows = [\n",
        "        [1, 4],\n",
        "        [],\n",
        "        []\n",
        "    ]\n",
        "    expected_columns = [\n",
        "        [1, 5, 7],\n",
        "        [2, 5, 8],\n",
        "        [2, 6, 8],\n",
        "        [4, 6, 7]\n",
        "    ]\n",
        "    assert unique_rows(matrix) == expected_rows\n",
        "    assert unique_columns(matrix) == expected_columns\n",
        "\n",
        "\n",
        "    matrix = [\n",
        "        [1, 5, 7],\n",
        "        [2, 5, 8],\n",
        "        [2, 6, 8],\n",
        "        [4, 6, 7]\n",
        "    ]\n",
        "    expected_columns = [\n",
        "        [1, 4],\n",
        "        [],\n",
        "        []\n",
        "    ]\n",
        "    expected_rows = [\n",
        "        [1, 5, 7],\n",
        "        [2, 5, 8],\n",
        "        [2, 6, 8],\n",
        "        [4, 6, 7]\n",
        "    ]\n",
        "    assert unique_rows(matrix) == expected_rows\n",
        "    assert unique_columns(matrix) == expected_columns\n",
        "\n",
        "\n",
        "    matrix = [\n",
        "        [1, 5, 7],\n",
        "        [2, 5, 8],\n",
        "    ]\n",
        "    expected_rows = [\n",
        "        [1, 5, 7],\n",
        "        [2, 5, 8],\n",
        "    ]\n",
        "    expected_columns = [\n",
        "        [1, 2],\n",
        "        [],\n",
        "        [7, 8]\n",
        "    ]\n",
        "    assert unique_rows(matrix) == expected_rows\n",
        "    assert unique_columns(matrix) == expected_columns\n",
        "    \n",
        "    print(\"Все тесты пройдены.\")\n",
        "\n",
        "\n",
        "test()"
      ]
    },
    {
      "cell_type": "markdown",
      "metadata": {
        "id": "roYAlo4Jz-lH"
      },
      "source": [
        "<h1>Задача 4. Напишите функцию, которая заполняет матрицу с размерами $(m, n)$ случайными числами, распределенными по нормальному закону. Затем считает мат. ожидание и дисперсию для каждого из столбцов и строк, а также строит для каждой строки и столбца гистограмму значений (использовать функцию hist из модуля matplotlib.plot)"
      ]
    },
    {
      "cell_type": "code",
      "execution_count": null,
      "metadata": {
        "id": "nZK_71hMSQzv"
      },
      "outputs": [],
      "source": [
        "def normalRandom(m, n, mean, dev):  \n",
        "    matrix = np.random.normal(mean, dev, size = (m, n))\n",
        "    rowMean = np.mean(matrix, axis=1)\n",
        "    rowVariance = np.var(matrix, axis=1)\n",
        "    columnMean = np.mean(matrix, axis=0)\n",
        "    columnVariance = np.var(matrix, axis=0)\n",
        "\n",
        "    for i in range(m):\n",
        "        plt.hist(matrix[i, :])\n",
        "        plt.title(f\"Гистограмма для строки {i+1}\")\n",
        "        plt.xlabel(\"Значения\")\n",
        "        plt.ylabel(\"Частота\")\n",
        "        plt.show()\n",
        "\n",
        "    for i in range(n):\n",
        "        plt.hist(matrix[:, i])\n",
        "        plt.title(f\"Гистограмма для столбца {i+1}\")\n",
        "        plt.xlabel(\"Значения\")\n",
        "        plt.ylabel(\"Частота\")\n",
        "        plt.show()"
      ]
    },
    {
      "cell_type": "markdown",
      "metadata": {
        "id": "BDyATNdM0dJ2"
      },
      "source": [
        "<h1>Задача 5. Напишите функцию, которая заполняет матрицу $(m, n)$ в шахматном порядке заданными числами $a$ и $b$. Напишите тесты для кода"
      ]
    },
    {
      "cell_type": "code",
      "execution_count": 13,
      "metadata": {
        "id": "RWNJYWQGecS6"
      },
      "outputs": [
        {
          "name": "stdout",
          "output_type": "stream",
          "text": [
            "Все тесты пройдены.\n"
          ]
        }
      ],
      "source": [
        "def chess(m, n, a, b):\n",
        "    result = []\n",
        "    for i in range(m):\n",
        "        result.append([])\n",
        "        for j in range(n):\n",
        "            if (i + j) % 2 == 0:\n",
        "                result[i].append(a)\n",
        "            else:\n",
        "                result[i].append(b)\n",
        "    return result\n",
        "\n",
        "def test():\n",
        "    assert chess(3, 3, 0, 1) == [[0,1,0],[1,0,1],[0,1,0]]\n",
        "    assert chess(3, 3, 0, 2) == [[0,2,0],[2,0,2],[0,2,0]]\n",
        "    assert chess(2, 2, 0, 1) == [[0,1],[1,0]]\n",
        "    \n",
        "    print(\"Все тесты пройдены.\")\n",
        "\n",
        "\n",
        "test()"
      ]
    },
    {
      "cell_type": "markdown",
      "metadata": {
        "id": "-ymXLtTN0vB6"
      },
      "source": [
        "<h1>Задача 6. Напишите функцию, которая отрисовывает прямоугольник с заданными размерами (a, b) на изображении размера (m, n), цвет фона задайте в схеме RGB, как и цвет прямоугольника. Цвета также должны быть параметрами функции. Напишите аналогичную функцию но для овала с полуосями a и b. Напишите тесты для кода.\n",
        "Примечание: уравнение эллипса (границы овала) можно записать как:\n",
        "<h1>$\\frac{(x-x_0)^2}{a^2}+\\frac{(y-y_0)^2}{b^2}=1$"
      ]
    },
    {
      "cell_type": "code",
      "execution_count": 1,
      "metadata": {
        "id": "sNfl1t_kfOF4"
      },
      "outputs": [],
      "source": [
        "from matplotlib.patches import Rectangle, Ellipse\n",
        "\n",
        "def draw_rectangle(a, b, m, n, rectangle_color, background_color):\n",
        "    fig, ax = plt.subplots(figsize = (m, n))\n",
        "    ax.set_xlim(0, m)\n",
        "    ax.set_ylim(0, n)\n",
        "    ax.set_facecolor(background_color)\n",
        "    ax.add_patch(Rectangle((1, 1), a, b, facecolor = rectangle_color))\n",
        "    plt.show()\n",
        "\n",
        "def draw_ellipse(a, b, m, n, ellipse_color, background_color):\n",
        "    fig, ax = plt.subplots(figsize = (m, n))\n",
        "    ax.set_xlim(0, m)\n",
        "    ax.set_ylim(0, n)\n",
        "    ax.set_facecolor(background_color)\n",
        "    ax.add_patch(Ellipse((4, 4), a, b, facecolor = ellipse_color))\n",
        "    plt.show()"
      ]
    },
    {
      "cell_type": "markdown",
      "metadata": {
        "id": "S82c38oz244H"
      },
      "source": [
        "<h1>Задача 7. Дан некий временной ряд. Для данного ряда нужно найти его: математическое ожидание, дисперсию, СКО, найти все локальные максимумы и минимумы (локальный максимум - это точка, которая больше своих соседних точек, а локальный минимум - это точка, которая меньше своих соседей), а также вычислить для данного ряда другой ряд, получаемый методом скользящего среднего с размером окна $p$.\n",
        "<h1>Примечание: метод скользящего среднего подразумевает нахождение среднего из подмножетсва ряда размером $p$"
      ]
    },
    {
      "cell_type": "code",
      "execution_count": null,
      "metadata": {
        "id": "Zb9mIVge5MMt"
      },
      "outputs": [],
      "source": [
        "from scipy.signal import argrelextrema\n",
        "\n",
        "def process_info(time_series, p):\n",
        "    printmean = np.mean(time_series)\n",
        "    varriance = np.var(time_series)\n",
        "    std = np.std(time_series)\n",
        "    local_max  = argrelextrema(np.array(time_series), np.greater)[0]\n",
        "    local_min  = argrelextrema(np.array(time_series), np.less)[0]\n",
        "    moving_avg = np.convolve(time_series, np.ones(p)/p, mode='valid')"
      ]
    },
    {
      "cell_type": "markdown",
      "metadata": {
        "id": "jPkylmOX5O9n"
      },
      "source": [
        "<h1> Задача 8. Дан некоторый вектор с целочисленными метками классов, напишите функцию, которая выполняет one-hot-encoding для данного вектора\n",
        "<h1> One-hot-encoding - представление, в котором на месте метки некоторого класса стоит 1, в остальных позициях стоит 0. Например для вектора [0, 2, 3, 0] one-hot-encoding выглядит как: [[1, 0, 0, 0], [0, 0, 1, 0], [0, 0, 0, 1], [1, 0, 0, 0]]"
      ]
    },
    {
      "cell_type": "code",
      "execution_count": 1,
      "metadata": {
        "id": "Y-jlnZvw56lD"
      },
      "outputs": [],
      "source": [
        "def one_hot_encoding(vector):\n",
        "    result = []\n",
        "    for i in range(len(vector)):\n",
        "        result.append([0] * len(vector))\n",
        "        result[i][vector[i]] = 1"
      ]
    }
  ],
  "metadata": {
    "colab": {
      "provenance": []
    },
    "kernelspec": {
      "display_name": "Python 3",
      "name": "python3"
    },
    "language_info": {
      "codemirror_mode": {
        "name": "ipython",
        "version": 3
      },
      "file_extension": ".py",
      "mimetype": "text/x-python",
      "name": "python",
      "nbconvert_exporter": "python",
      "pygments_lexer": "ipython3",
      "version": "3.12.6"
    }
  },
  "nbformat": 4,
  "nbformat_minor": 0
}
