{
  "cells": [
    {
      "cell_type": "markdown",
      "metadata": {
        "id": "M-DGa20PaHnu"
      },
      "source": [
        "#Задача 1\n",
        "Написать функцию на вход которой подается строка, состоящая из латинских букв.\n",
        "Функция должна вернуть количество гласных букв (a, e, i, o, u) в этой строке. Написать тесты для кода"
      ]
    },
    {
      "cell_type": "code",
      "execution_count": 30,
      "metadata": {
        "id": "XvX8X_JJ6PCb"
      },
      "outputs": [
        {
          "name": "stdout",
          "output_type": "stream",
          "text": [
            "Все тесты пройдены.\n"
          ]
        }
      ],
      "source": [
        "def aeiou(text):\n",
        "    target = ['a', 'e', 'i', 'o', 'u', 'A', 'E', 'I', 'O', 'U']\n",
        "    counter = 0\n",
        "    for letter in text:\n",
        "        if letter in target:\n",
        "            counter +=1\n",
        "    return counter\n",
        "\n",
        "def test():\n",
        "    assert aeiou(\"hello\") == 2\n",
        "    assert aeiou(\"wOrld\") == 1\n",
        "    assert aeiou(\"AEIOUaeiou\") == 10\n",
        "    assert aeiou(\"sdfg\") == 0\n",
        "    assert aeiou(\"\") == 0\n",
        "    \n",
        "    print(\"Все тесты пройдены.\")\n",
        "\n",
        "test()\n",
        "    "
      ]
    },
    {
      "cell_type": "markdown",
      "metadata": {
        "id": "t2ClV_Y0bbr6"
      },
      "source": [
        "# Задача 2\n",
        "Написать функцию на вход, которой подается строка. Функция должна вернуть true, если\n",
        "каждый символ в строке встречается только 1 раз, иначе должна вернуть false. Написать тесты для кода"
      ]
    },
    {
      "cell_type": "code",
      "execution_count": 31,
      "metadata": {
        "id": "FppbECao6VIz"
      },
      "outputs": [
        {
          "name": "stdout",
          "output_type": "stream",
          "text": [
            "Все тесты пройдены.\n"
          ]
        }
      ],
      "source": [
        "def singleLetter(text):\n",
        "    letters = []\n",
        "    for letter in text:\n",
        "        if letter in letters:\n",
        "            return False\n",
        "        letters.append(letter)\n",
        "    return True\n",
        "\n",
        "def test():\n",
        "    assert singleLetter(\"\") == True\n",
        "    assert singleLetter(\"qwerty\") == True\n",
        "    assert singleLetter(\"qqwerty\") == False\n",
        "    \n",
        "    print(\"Все тесты пройдены.\")\n",
        "\n",
        "test()"
      ]
    },
    {
      "cell_type": "markdown",
      "metadata": {
        "id": "udRiIK1cdt6E"
      },
      "source": [
        "# Задача 3\n",
        "Написать функцию, которая принимает положительное число и возвращает количество\n",
        "бит равных 1 в этом числе. Написать тесты для кода"
      ]
    },
    {
      "cell_type": "code",
      "execution_count": 32,
      "metadata": {
        "id": "6tkfDJRz6dp_"
      },
      "outputs": [
        {
          "name": "stdout",
          "output_type": "stream",
          "text": [
            "Все тесты пройдены.\n"
          ]
        }
      ],
      "source": [
        "def bitCounter(number):\n",
        "    binary = bin(number)[2:].replace('0', '')\n",
        "    return len(binary)\n",
        "\n",
        "def test():\n",
        "    assert bitCounter(0) == 0\n",
        "    assert bitCounter(1) == 1\n",
        "    assert bitCounter(2) == 1\n",
        "    assert bitCounter(3) == 2\n",
        "    assert bitCounter(510) == 8\n",
        "    assert bitCounter(511) == 9\n",
        "    assert bitCounter(512) == 1\n",
        "    \n",
        "    print(\"Все тесты пройдены.\")\n",
        "\n",
        "test()"
      ]
    },
    {
      "cell_type": "markdown",
      "metadata": {
        "id": "26dDUz-Ae17N"
      },
      "source": [
        "# Задача 4\n",
        "Написать функцию, которая принимает положительное число. Функция должна вернуть то,\n",
        "сколько раз необходимо перемножать цифры числа или результат перемножения, чтобы\n",
        "получилось число состоящее из одной цифры.\n",
        "Например, для входного числа:\n",
        "· 39 функция должна вернуть 3, так как 3*9=27 => 2*7=14 => 1*4=4\n",
        "· 4 функция должна вернуть 0, так как число уже состоит из одной цифры\n",
        "· 999 функция должна вернуть 4, так как 9*9*9=729 => 7*2*9=126 => 1*2*6=12 =>\n",
        "1*2=2. Написать тесты для кода"
      ]
    },
    {
      "cell_type": "code",
      "execution_count": 33,
      "metadata": {
        "id": "BH1A_Mgi6i4G"
      },
      "outputs": [
        {
          "name": "stdout",
          "output_type": "stream",
          "text": [
            "Все тесты пройдены.\n"
          ]
        }
      ],
      "source": [
        "def magic(n):\n",
        "    steps = 0\n",
        "    while(len(str(n)) > 1):\n",
        "        number = 1\n",
        "        for m in str(n):\n",
        "            number *= int(m)\n",
        "        n = number\n",
        "        steps += 1\n",
        "    return steps\n",
        "\n",
        "def test():\n",
        "    assert magic(39) == 3\n",
        "    assert magic(9) == 0\n",
        "    assert magic(99) == 2\n",
        "    assert magic(999) == 4\n",
        "    \n",
        "    print(\"Все тесты пройдены.\")\n",
        "\n",
        "test()"
      ]
    },
    {
      "cell_type": "markdown",
      "metadata": {
        "id": "0nS-kIa8g8vd"
      },
      "source": [
        "# Задача 5\n",
        "Написать функцию, которая принимает два целочисленных вектора одинаковой длины и\n",
        "возвращает среднеквадратическое отклонение двух векторов. Написать тесты для кода"
      ]
    },
    {
      "cell_type": "code",
      "execution_count": 46,
      "metadata": {
        "id": "8iphx4LM6xbx"
      },
      "outputs": [
        {
          "name": "stdout",
          "output_type": "stream",
          "text": [
            "Все тесты пройдены.\n"
          ]
        }
      ],
      "source": [
        "def mse(pred, true):\n",
        "    if len(pred) != len(true):\n",
        "        return \"Векторы разной длины\"\n",
        "    return sum([(p - t) ** 2 for p, t in zip(pred, true)]) / len(pred)\n",
        "\n",
        "\n",
        "def test():\n",
        "    assert mse([1, 2, 3], [1, 2, 3]) == 0.0\n",
        "    assert mse([-1, -2, -3], [-1, -2, -3]) == 0.0\n",
        "    assert mse([3, 0, 0], [0, 0, 3]) == 6.0\n",
        "    assert mse([-1, -1, -1], [1, 1, 1]) == 4.0\n",
        "    assert mse([1, 0, 0], [0, 2, 0]) == 5/3\n",
        "    assert mse([1, 2, 3], [1]) == \"Векторы разной длины\"\n",
        "    \n",
        "    print(\"Все тесты пройдены.\")\n",
        "\n",
        "test()\n"
      ]
    },
    {
      "cell_type": "markdown",
      "metadata": {
        "id": "vpIPKL439zkw"
      },
      "source": [
        "# Задача 6\n",
        "Написать функцию, принимающая целое положительное число. Функция должна вернуть\n",
        "строку вида “(n1**p1)(n2**p2)…(nk**pk)” представляющая разложение числа на простые\n",
        "множители (если pi == 1, то выводить только ni).\n",
        "Например, для числа 86240 функция должна вернуть “(2**5)(5)(7**2)(11)”. Написать тесты для кода"
      ]
    },
    {
      "cell_type": "code",
      "execution_count": 35,
      "metadata": {
        "id": "pFebmcZk94Jw"
      },
      "outputs": [
        {
          "name": "stdout",
          "output_type": "stream",
          "text": [
            "Все тесты пройдены.\n"
          ]
        }
      ],
      "source": [
        "def factorization(number):\n",
        "    factor = 1\n",
        "    answer = []\n",
        "    result = ''\n",
        "    while number != 1:\n",
        "        power = 0\n",
        "        factor += 1\n",
        "        while number % factor == 0:\n",
        "            power += 1\n",
        "            number /= factor\n",
        "        if power > 0:\n",
        "            answer.append((factor, power))\n",
        "    for tup in answer:\n",
        "        if tup[1] == 1:\n",
        "            result += f'({tup[0]})'\n",
        "        else:\n",
        "            result += f'({tup[0]}**{tup[1]})'\n",
        "    return result\n",
        "\n",
        "def test():\n",
        "    assert factorization(86240) == \"(2**5)(5)(7**2)(11)\"\n",
        "    assert factorization(86420) == \"(2**2)(5)(29)(149)\"\n",
        "    assert factorization(5) == \"(5)\"\n",
        "    \n",
        "    print(\"Все тесты пройдены.\")\n",
        "\n",
        "test()"
      ]
    },
    {
      "cell_type": "markdown",
      "metadata": {
        "id": "ps2s0BudX7A2"
      },
      "source": [
        "# Задача 7\n",
        "Написать функцию, принимающая целое число n, задающее количество кубиков. Функция\n",
        "должна определить, можно ли из данного кол-ва кубиков построить пирамиду, то есть\n",
        "можно ли представить число n как 1^2+2^2+3^2+…+k^2. Если можно, то функция должна\n",
        "вернуть k, иначе строку “It is impossible”. Написать тесты для кода"
      ]
    },
    {
      "cell_type": "code",
      "execution_count": 41,
      "metadata": {
        "id": "3YPjEXxhX_YT"
      },
      "outputs": [
        {
          "name": "stdout",
          "output_type": "stream",
          "text": [
            "Все тесты пройдены.\n"
          ]
        }
      ],
      "source": [
        "def pyramid(number):\n",
        "    k = 0\n",
        "    needed = 0\n",
        "    while(number > needed):\n",
        "        k += 1\n",
        "        needed += (k)**2\n",
        "    if number == needed:\n",
        "        return k\n",
        "    return 'It is impossible'\n",
        "\n",
        "def test():\n",
        "    assert pyramid(5) == 2\n",
        "    assert pyramid(14) == 3\n",
        "    assert pyramid(6) == \"It is impossible\"\n",
        "    \n",
        "    print(\"Все тесты пройдены.\")\n",
        "\n",
        "test()"
      ]
    },
    {
      "cell_type": "markdown",
      "metadata": {
        "id": "KeKgmIdAQMEJ"
      },
      "source": [
        "# Задача 8\n",
        "Функция принимает на вход положительное число и определяет является ли оно сбалансированным, т.е. сумма цифр до средних равна сумме цифр после. Средними в случае нечетного числа цифр считать одну цифру, в случае четного - две средних. Написать тесты для кода"
      ]
    },
    {
      "cell_type": "code",
      "execution_count": 40,
      "metadata": {
        "id": "gMAAqtqlQrZt"
      },
      "outputs": [
        {
          "name": "stdout",
          "output_type": "stream",
          "text": [
            "Все тесты пройдены.\n"
          ]
        }
      ],
      "source": [
        "def isBalanced(number):\n",
        "    number = str(number)\n",
        "    gap = 1\n",
        "    length = len(number)\n",
        "    if length % 2 == 0:\n",
        "        gap += 1\n",
        "    halfLength = int(length / 2 - gap + 1)\n",
        "    half1 = 0\n",
        "    half2 = 0\n",
        "    for n in range(halfLength):\n",
        "        half1 += int(number[n])\n",
        "        half2 += int(number[n + halfLength + gap])\n",
        "    return half1 == half2\n",
        "\n",
        "def test():\n",
        "    assert isBalanced(123512) == True\n",
        "    assert isBalanced(12303) == True\n",
        "    assert isBalanced(1) == True\n",
        "    assert isBalanced(20) == True\n",
        "    assert isBalanced(123456) == False\n",
        "    assert isBalanced(15900) == False\n",
        "    \n",
        "    print(\"Все тесты пройдены.\")\n",
        "\n",
        "test()"
      ]
    }
  ],
  "metadata": {
    "colab": {
      "provenance": []
    },
    "kernelspec": {
      "display_name": "Python 3",
      "name": "python3"
    },
    "language_info": {
      "codemirror_mode": {
        "name": "ipython",
        "version": 3
      },
      "file_extension": ".py",
      "mimetype": "text/x-python",
      "name": "python",
      "nbconvert_exporter": "python",
      "pygments_lexer": "ipython3",
      "version": "3.12.6"
    }
  },
  "nbformat": 4,
  "nbformat_minor": 0
}
